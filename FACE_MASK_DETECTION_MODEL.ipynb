{
 "cells": [
  {
   "cell_type": "code",
   "execution_count": 1,
   "metadata": {},
   "outputs": [],
   "source": [
    "import cv2,os"
   ]
  },
  {
   "cell_type": "code",
   "execution_count": 4,
   "metadata": {},
   "outputs": [
    {
     "name": "stdout",
     "output_type": "stream",
     "text": [
      "{'with mask': 0, 'without mask': 1}\n",
      "['with mask', 'without mask']\n",
      "[0, 1]\n"
     ]
    }
   ],
   "source": [
    "data_path='E:\\dataset'\n",
    "categories=os.listdir(data_path)\n",
    "labels=[i for i in range(len(categories))]\n",
    "label_dict=dict(zip(categories,labels))\n",
    "print(label_dict)\n",
    "print(categories)\n",
    "print(labels)"
   ]
  },
  {
   "cell_type": "code",
   "execution_count": 5,
   "metadata": {},
   "outputs": [],
   "source": [
    "img_size=100\n",
    "data=[]\n",
    "target=[]\n",
    "\n",
    "for category in categories:\n",
    "    folder_path=os.path.join(data_path,category)\n",
    "    img_names=os.listdir(folder_path)\n",
    "    \n",
    "    for img_name in img_names:\n",
    "        img_path=os.path.join(folder_path,img_name)\n",
    "        img=cv2.imread(img_path)\n",
    "        \n",
    "        try:\n",
    "            gray=cv2.cvtColor(img,cv2.COLOR_BGR2GRAY)\n",
    "            resized=cv2.resize(gray,(img_size,img_size))\n",
    "            data.append(resized)\n",
    "            target.append(label_dict[category])\n",
    "            \n",
    "        except Exception as e:\n",
    "            print('Exception:',e)"
   ]
  },
  {
   "cell_type": "code",
   "execution_count": 6,
   "metadata": {},
   "outputs": [
    {
     "name": "stderr",
     "output_type": "stream",
     "text": [
      "Using TensorFlow backend.\n"
     ]
    }
   ],
   "source": [
    "import numpy as np\n",
    "\n",
    "data=np.array(data)/255.0\n",
    "data=np.reshape(data,(data.shape[0],img_size,img_size,1))\n",
    "target=np.array(target)\n",
    "\n",
    "from keras.utils import np_utils\n",
    "\n",
    "new_target=np_utils.to_categorical(target)"
   ]
  },
  {
   "cell_type": "code",
   "execution_count": 7,
   "metadata": {},
   "outputs": [],
   "source": [
    "np.save('data',data)\n",
    "np.save('target',new_target)"
   ]
  },
  {
   "cell_type": "code",
   "execution_count": 8,
   "metadata": {},
   "outputs": [],
   "source": [
    "data=np.load('data.npy')\n",
    "target=np.load('target.npy')"
   ]
  },
  {
   "cell_type": "code",
   "execution_count": 10,
   "metadata": {},
   "outputs": [],
   "source": [
    "from keras.models import Sequential\n",
    "from keras.layers import Dense,Activation,Flatten,Dropout\n",
    "from keras.layers import Conv2D,MaxPooling2D\n",
    "from keras.callbacks import ModelCheckpoint\n",
    "\n",
    "model = Sequential()\n",
    "\n",
    "model.add(Conv2D(100,(3,3),input_shape=data.shape[1:]))\n",
    "model.add(Activation('relu'))\n",
    "model.add(MaxPooling2D(pool_size=(2,2)))\n",
    "\n",
    "model.add(Conv2D(100,(3,3)))\n",
    "model.add(Activation('relu'))\n",
    "model.add(MaxPooling2D(pool_size=(2,2)))\n",
    "\n",
    "model.add(Flatten())\n",
    "model.add(Dropout(0.5))\n",
    "\n",
    "model.add(Dense(50,activation='relu'))\n",
    "\n",
    "model.add(Dense(2,activation='softmax'))\n",
    "\n",
    "model.compile(loss='binary_crossentropy',optimizer='adam',metrics=['accuracy'])"
   ]
  },
  {
   "cell_type": "code",
   "execution_count": 11,
   "metadata": {},
   "outputs": [],
   "source": [
    "from sklearn.model_selection import train_test_split\n",
    "\n",
    "train_data,test_data,train_target,test_target = train_test_split(data,target,test_size=0.1)"
   ]
  },
  {
   "cell_type": "code",
   "execution_count": 12,
   "metadata": {},
   "outputs": [
    {
     "name": "stdout",
     "output_type": "stream",
     "text": [
      "Train on 990 samples, validate on 248 samples\n",
      "Epoch 1/20\n",
      "990/990 [==============================] - 79s 80ms/step - loss: 0.6998 - accuracy: 0.5626 - val_loss: 0.5739 - val_accuracy: 0.7540\n",
      "Epoch 2/20\n",
      "990/990 [==============================] - 57s 58ms/step - loss: 0.4839 - accuracy: 0.7606 - val_loss: 0.4602 - val_accuracy: 0.7500\n",
      "Epoch 3/20\n",
      "990/990 [==============================] - 58s 59ms/step - loss: 0.3683 - accuracy: 0.8505 - val_loss: 0.2711 - val_accuracy: 0.8911\n",
      "Epoch 4/20\n",
      "990/990 [==============================] - 60s 60ms/step - loss: 0.2390 - accuracy: 0.9000 - val_loss: 0.3908 - val_accuracy: 0.8427\n",
      "Epoch 5/20\n",
      "990/990 [==============================] - 62s 63ms/step - loss: 0.1629 - accuracy: 0.9404 - val_loss: 0.2099 - val_accuracy: 0.9234\n",
      "Epoch 6/20\n",
      "990/990 [==============================] - 60s 61ms/step - loss: 0.1338 - accuracy: 0.9556 - val_loss: 0.1819 - val_accuracy: 0.9315\n",
      "Epoch 7/20\n",
      "990/990 [==============================] - 63s 64ms/step - loss: 0.0867 - accuracy: 0.9768 - val_loss: 0.1551 - val_accuracy: 0.9355\n",
      "Epoch 8/20\n",
      "990/990 [==============================] - 60s 61ms/step - loss: 0.0632 - accuracy: 0.9788 - val_loss: 0.2900 - val_accuracy: 0.9113\n",
      "Epoch 9/20\n",
      "990/990 [==============================] - 61s 61ms/step - loss: 0.0578 - accuracy: 0.9788 - val_loss: 0.1887 - val_accuracy: 0.9355\n",
      "Epoch 10/20\n",
      "990/990 [==============================] - 64s 65ms/step - loss: 0.0438 - accuracy: 0.9838 - val_loss: 0.1598 - val_accuracy: 0.9476\n",
      "Epoch 11/20\n",
      "990/990 [==============================] - 62s 63ms/step - loss: 0.0881 - accuracy: 0.9687 - val_loss: 0.2299 - val_accuracy: 0.9274\n",
      "Epoch 12/20\n",
      "990/990 [==============================] - 62s 63ms/step - loss: 0.0528 - accuracy: 0.9798 - val_loss: 0.2865 - val_accuracy: 0.9234\n",
      "Epoch 13/20\n",
      "990/990 [==============================] - 62s 63ms/step - loss: 0.0372 - accuracy: 0.9909 - val_loss: 0.2775 - val_accuracy: 0.9315\n",
      "Epoch 14/20\n",
      "990/990 [==============================] - 61s 61ms/step - loss: 0.0315 - accuracy: 0.9889 - val_loss: 0.2245 - val_accuracy: 0.9395\n",
      "Epoch 15/20\n",
      "990/990 [==============================] - 64s 65ms/step - loss: 0.0253 - accuracy: 0.9909 - val_loss: 0.1328 - val_accuracy: 0.9476\n",
      "Epoch 16/20\n",
      "990/990 [==============================] - 61s 62ms/step - loss: 0.0176 - accuracy: 0.9949 - val_loss: 0.1864 - val_accuracy: 0.9476\n",
      "Epoch 17/20\n",
      "990/990 [==============================] - 64s 65ms/step - loss: 0.0344 - accuracy: 0.9899 - val_loss: 0.1894 - val_accuracy: 0.9395\n",
      "Epoch 18/20\n",
      "990/990 [==============================] - 60s 60ms/step - loss: 0.0156 - accuracy: 0.9970 - val_loss: 0.1870 - val_accuracy: 0.9516\n",
      "Epoch 19/20\n",
      "990/990 [==============================] - 62s 63ms/step - loss: 0.0116 - accuracy: 0.9949 - val_loss: 0.2567 - val_accuracy: 0.9435\n",
      "Epoch 20/20\n",
      "990/990 [==============================] - 62s 63ms/step - loss: 0.0166 - accuracy: 0.9939 - val_loss: 0.2275 - val_accuracy: 0.9355\n"
     ]
    }
   ],
   "source": [
    "checkpoint = ModelCheckpoint('model-{epoch:03d}.model',monitor='val_loss',verbose=0,save_best_only=True,mode='auto')\n",
    "history=model.fit(train_data,train_target,epochs=20,callbacks=[checkpoint],validation_split=0.2)"
   ]
  },
  {
   "cell_type": "code",
   "execution_count": 15,
   "metadata": {},
   "outputs": [
    {
     "data": {
      "image/png": "[encoded data removed]",
      "text/plain": [
       "<Figure size 432x288 with 1 Axes>"
      ]
     },
     "metadata": {
      "needs_background": "light"
     },
     "output_type": "display_data"
    }
   ],
   "source": [
    "from matplotlib import pyplot as plt\n",
    "\n",
    "plt.plot(history.history['loss'],'r',label='training loss')\n",
    "plt.plot(history.history['val_loss'],label='validation loss')\n",
    "plt.xlabel('# epochs')\n",
    "plt.ylabel('loss')\n",
    "plt.legend()\n",
    "plt.show()"
   ]
  },
  {
   "cell_type": "code",
   "execution_count": 14,
   "metadata": {},
   "outputs": [
    {
     "data": {
      "image/png": "[encoded data removed]",
      "text/plain": [
       "<Figure size 432x288 with 1 Axes>"
      ]
     },
     "metadata": {
      "needs_background": "light"
     },
     "output_type": "display_data"
    }
   ],
   "source": [
    "plt.plot(history.history['accuracy'],'r',label='training accuracy')\n",
    "plt.plot(history.history['val_accuracy'],label='validation accuracy')\n",
    "plt.xlabel('# epochs')\n",
    "plt.ylabel('loss')\n",
    "plt.legend()\n",
    "plt.show()"
   ]
  },
  {
   "cell_type": "code",
   "execution_count": 16,
   "metadata": {},
   "outputs": [
    {
     "name": "stdout",
     "output_type": "stream",
     "text": [
      "138/138 [==============================] - 4s 29ms/step\n",
      "[0.3280482602076254, 0.95652174949646]\n"
     ]
    }
   ],
   "source": [
    "print(model.evaluate(test_data,test_target))"
   ]
  }
 ],
 "metadata": {
  "kernelspec": {
   "display_name": "Python [conda env:Anaconda3]",
   "language": "python",
   "name": "conda-env-Anaconda3-py"
  },
  "language_info": {
   "codemirror_mode": {
    "name": "ipython",
    "version": 3
   },
   "file_extension": ".py",
   "mimetype": "text/x-python",
   "name": "python",
   "nbconvert_exporter": "python",
   "pygments_lexer": "ipython3",
   "version": "3.7.4"
  }
 },
 "nbformat": 4,
 "nbformat_minor": 2
}
